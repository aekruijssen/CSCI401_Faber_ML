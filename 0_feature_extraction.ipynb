{
 "cells": [
  {
   "cell_type": "code",
   "execution_count": 2,
   "metadata": {},
   "outputs": [
    {
     "name": "stderr",
     "output_type": "stream",
     "text": [
      "C:\\ProgramData\\Anaconda3\\lib\\site-packages\\ipykernel_launcher.py:7: TqdmDeprecationWarning: This function will be removed in tqdm==5.0.0\n",
      "Please use `tqdm.notebook.*` instead of `tqdm._tqdm_notebook.*`\n",
      "  import sys\n",
      "C:\\ProgramData\\Anaconda3\\lib\\site-packages\\tqdm\\std.py:658: FutureWarning: The Panel class is removed from pandas. Accessing it from the top-level namespace will also be removed in the next version\n",
      "  from pandas import Panel\n"
     ]
    }
   ],
   "source": [
    "import os\n",
    "from collections import defaultdict\n",
    "import string\n",
    "import re\n",
    "import numpy as np\n",
    "from tqdm import tqdm\n",
    "from tqdm._tqdm_notebook import tqdm_notebook\n",
    "import pandas as pd\n",
    "from multiprocessing import Pool\n",
    "tqdm_notebook.pandas()"
   ]
  },
  {
   "cell_type": "code",
   "execution_count": 3,
   "metadata": {},
   "outputs": [],
   "source": [
    "def mkdir(d):\n",
    "    if not os.path.exists(d):\n",
    "        os.makedirs(d)"
   ]
  },
  {
   "cell_type": "markdown",
   "metadata": {},
   "source": [
    "## Data Loading\n",
    "\n",
    "We first load the Yelp dataset as well as the annotations from [1].\n",
    "\n",
    "[1] Hernández-Rubio, M., Cantador, I., Bellogín, A. 2019. A comparative analysis of recommender systems based on item aspect opinions extracted from user reviews. User Modeling and User-Adapted Interaction 29(2), 381-441."
   ]
  },
  {
   "cell_type": "code",
   "execution_count": 41,
   "metadata": {},
   "outputs": [],
   "source": [
    "# Dataframe for all users.\n",
    "df_user = pd.read_csv(\"data/user.csv\")[[\"user_id\", \"name\", \"review_count\", \"yelping_since\"]]\n",
    "#df_user = df_user.head(1000)"
   ]
  },
  {
   "cell_type": "code",
   "execution_count": 25,
   "metadata": {},
   "outputs": [],
   "source": [
    "# Dataframe for all reviews.\n",
    "df_review = pd.read_csv(\"data/review.csv\").drop([\"useful\", \"funny\", \"cool\"], axis=1)\n",
    "df_review = df_review.rename(columns={\"business_id\": \"item_id\"})\n",
    "#df_review = df_review.head(1000)"
   ]
  },
  {
   "cell_type": "code",
   "execution_count": 26,
   "metadata": {},
   "outputs": [],
   "source": [
    "# Dataframe for all restaurants.\n",
    "df_item = pd.read_csv(\"data/business.csv\")\n",
    "df_item = df_item.rename(columns={\"business_id\": \"item_id\"})\n",
    "df_item[\"is_restaurant\"] = df_item[[\"categories\"]].apply(lambda x: \"Restaurants\" in x[\"categories\"], axis=1)\n",
    "df_item = df_item[df_item[\"is_restaurant\"]]\n",
    "df_item = df_item[[\"item_id\", \"name\", \"city\", \"state\", \"postal_code\", \"latitude\", \"longitude\", \"stars\"]]\n",
    "#df_item = df_item.head(1000)"
   ]
  },
  {
   "cell_type": "code",
   "execution_count": 27,
   "metadata": {},
   "outputs": [],
   "source": [
    "# Dataframe for words representing aspects.\n",
    "df_aspects = pd.read_csv(\"aspect/aspects_restaurants.csv\", header=0, names=[\"aspect\", \"word\"])\n",
    "aspect_dict = defaultdict(list)\n",
    "aspect_reverse_dict = {}\n",
    "for i, row in df_aspects.iterrows():\n",
    "    aspect_dict[row[\"aspect\"]].append(row[\"word\"])\n",
    "    aspect_reverse_dict[row[\"word\"]] = row[\"aspect\"]"
   ]
  },
  {
   "cell_type": "code",
   "execution_count": 28,
   "metadata": {},
   "outputs": [],
   "source": [
    "# Dataframe for words representing aspect sentiment orientations.\n",
    "df_so = pd.read_csv(\"aspect/lexicon_restaurants.csv\", header=0, names=[\"aspect\", \"word\", \"score\"])\n",
    "so_dict = defaultdict(dict)\n",
    "so_reverse_dict = {}\n",
    "for i, row in df_so.iterrows():\n",
    "    so_dict[row[\"aspect\"]][row[\"word\"]] = row[\"score\"]\n",
    "    so_reverse_dict[row[\"word\"]] = row[\"aspect\"]"
   ]
  },
  {
   "cell_type": "code",
   "execution_count": 29,
   "metadata": {
    "scrolled": true
   },
   "outputs": [
    {
     "data": {
      "text/html": [
       "<div>\n",
       "<style scoped>\n",
       "    .dataframe tbody tr th:only-of-type {\n",
       "        vertical-align: middle;\n",
       "    }\n",
       "\n",
       "    .dataframe tbody tr th {\n",
       "        vertical-align: top;\n",
       "    }\n",
       "\n",
       "    .dataframe thead th {\n",
       "        text-align: right;\n",
       "    }\n",
       "</style>\n",
       "<table border=\"1\" class=\"dataframe\">\n",
       "  <thead>\n",
       "    <tr style=\"text-align: right;\">\n",
       "      <th></th>\n",
       "      <th>review_id</th>\n",
       "      <th>user_id</th>\n",
       "      <th>item_id</th>\n",
       "      <th>stars</th>\n",
       "      <th>date</th>\n",
       "      <th>text</th>\n",
       "    </tr>\n",
       "  </thead>\n",
       "  <tbody>\n",
       "    <tr>\n",
       "      <th>0</th>\n",
       "      <td>vkVSCC7xljjrAI4UGfnKEQ</td>\n",
       "      <td>bv2nCi5Qv5vroFiqKGopiw</td>\n",
       "      <td>AEx2SYEUJmTxVVB18LlCwA</td>\n",
       "      <td>5</td>\n",
       "      <td>2016-05-28</td>\n",
       "      <td>Super simple place but amazing nonetheless. It...</td>\n",
       "    </tr>\n",
       "    <tr>\n",
       "      <th>1</th>\n",
       "      <td>n6QzIUObkYshz4dz2QRJTw</td>\n",
       "      <td>bv2nCi5Qv5vroFiqKGopiw</td>\n",
       "      <td>VR6GpWIda3SfvPC-lg9H3w</td>\n",
       "      <td>5</td>\n",
       "      <td>2016-05-28</td>\n",
       "      <td>Small unassuming place that changes their menu...</td>\n",
       "    </tr>\n",
       "    <tr>\n",
       "      <th>2</th>\n",
       "      <td>MV3CcKScW05u5LVfF6ok0g</td>\n",
       "      <td>bv2nCi5Qv5vroFiqKGopiw</td>\n",
       "      <td>CKC0-MOWMqoeWf6s-szl8g</td>\n",
       "      <td>5</td>\n",
       "      <td>2016-05-28</td>\n",
       "      <td>Lester's is located in a beautiful neighborhoo...</td>\n",
       "    </tr>\n",
       "    <tr>\n",
       "      <th>3</th>\n",
       "      <td>IXvOzsEMYtiJI0CARmj77Q</td>\n",
       "      <td>bv2nCi5Qv5vroFiqKGopiw</td>\n",
       "      <td>ACFtxLv8pGrrxMm6EgjreA</td>\n",
       "      <td>4</td>\n",
       "      <td>2016-05-28</td>\n",
       "      <td>Love coming here. Yes the place always needs t...</td>\n",
       "    </tr>\n",
       "    <tr>\n",
       "      <th>4</th>\n",
       "      <td>L_9BTb55X0GDtThi6GlZ6w</td>\n",
       "      <td>bv2nCi5Qv5vroFiqKGopiw</td>\n",
       "      <td>s2I_Ni76bjJNK9yG60iD-Q</td>\n",
       "      <td>4</td>\n",
       "      <td>2016-05-28</td>\n",
       "      <td>Had their chocolate almond croissant and it wa...</td>\n",
       "    </tr>\n",
       "  </tbody>\n",
       "</table>\n",
       "</div>"
      ],
      "text/plain": [
       "                review_id                 user_id                 item_id  \\\n",
       "0  vkVSCC7xljjrAI4UGfnKEQ  bv2nCi5Qv5vroFiqKGopiw  AEx2SYEUJmTxVVB18LlCwA   \n",
       "1  n6QzIUObkYshz4dz2QRJTw  bv2nCi5Qv5vroFiqKGopiw  VR6GpWIda3SfvPC-lg9H3w   \n",
       "2  MV3CcKScW05u5LVfF6ok0g  bv2nCi5Qv5vroFiqKGopiw  CKC0-MOWMqoeWf6s-szl8g   \n",
       "3  IXvOzsEMYtiJI0CARmj77Q  bv2nCi5Qv5vroFiqKGopiw  ACFtxLv8pGrrxMm6EgjreA   \n",
       "4  L_9BTb55X0GDtThi6GlZ6w  bv2nCi5Qv5vroFiqKGopiw  s2I_Ni76bjJNK9yG60iD-Q   \n",
       "\n",
       "   stars        date                                               text  \n",
       "0      5  2016-05-28  Super simple place but amazing nonetheless. It...  \n",
       "1      5  2016-05-28  Small unassuming place that changes their menu...  \n",
       "2      5  2016-05-28  Lester's is located in a beautiful neighborhoo...  \n",
       "3      4  2016-05-28  Love coming here. Yes the place always needs t...  \n",
       "4      4  2016-05-28  Had their chocolate almond croissant and it wa...  "
      ]
     },
     "execution_count": 29,
     "metadata": {},
     "output_type": "execute_result"
    }
   ],
   "source": [
    "# preview the review dataframe\n",
    "df_review.iloc[:5]"
   ]
  },
  {
   "cell_type": "markdown",
   "metadata": {},
   "source": [
    "## Item Profiling\n",
    "\n",
    "We propose to use latent factor-based item profiles to model restaurants in the dataset. Concretely, for each item $i$ and aspect $k$ extracted in [1], we compute two values for the (item, aspect) pair by going through all reviews for $i$:\n",
    "\n",
    "- $\\psi_{i,k}$: the proportion of all review contents discussing about aspect $k$;\n",
    "- ${so}_{i,k}$: the average sentiment orientation of all words in aspect $k$.\n",
    "\n",
    "We define the item aspect weight for item $i$ and aspect $k$ to be $$w_{i,k} = \\psi_{i,k} \\cdot {so}_{i,k}.$$"
   ]
  },
  {
   "cell_type": "code",
   "execution_count": 42,
   "metadata": {},
   "outputs": [],
   "source": [
    "def text_aspect_counts(text):\n",
    "    ''' Given a block of text, count the number of words in each aspect. \n",
    "    \n",
    "        Returns: a list of counts with indices corresponding to so_dict.\n",
    "    '''\n",
    "    words = re.sub('['+string.punctuation+']', '', text.lower()).split()\n",
    "    counts = [0] * len(so_dict)\n",
    "    for word in words:\n",
    "        if word in aspect_reverse_dict:\n",
    "            aspect_name = aspect_reverse_dict[word]\n",
    "            aspect_ix = list(so_dict.keys()).index(aspect_name)\n",
    "            counts[aspect_ix] += 1\n",
    "    return counts"
   ]
  },
  {
   "cell_type": "code",
   "execution_count": 43,
   "metadata": {},
   "outputs": [],
   "source": [
    "def text_so_measure(text):\n",
    "    ''' Given a block of text, calculate the sum of sentiment orientation \n",
    "        values as well as their counts.\n",
    "    \n",
    "        Returns:\n",
    "            sums: the sum of so values\n",
    "            counts: count of values used for the sums\n",
    "    '''\n",
    "    words = re.sub('['+string.punctuation+']', '', text.lower()).split()\n",
    "    sums = [0] * len(so_dict)\n",
    "    counts = [0] * len(so_dict)\n",
    "    for word in words:\n",
    "        if word in so_reverse_dict:\n",
    "            aspect_name = so_reverse_dict[word]\n",
    "            aspect_ix = list(so_dict.keys()).index(aspect_name)\n",
    "            word_so = so_dict[aspect_name][word]\n",
    "            sums[aspect_ix] += word_so\n",
    "            counts[aspect_ix] += 1\n",
    "    return sums, counts"
   ]
  },
  {
   "cell_type": "code",
   "execution_count": 44,
   "metadata": {},
   "outputs": [],
   "source": [
    "def item_aspect_weights(item_id):\n",
    "    ''' Calculates w_{i,k} wrt. all k for item i. '''\n",
    "    reviews = df_review[df_review['item_id'] == item_id][\"text\"].tolist()\n",
    "    \n",
    "    # calculating $\\psi$\n",
    "    psi = np.zeros((len(so_dict),))\n",
    "    for review in reviews:\n",
    "        psi += text_aspect_counts(review)\n",
    "    psi = psi.astype(float) / np.sum(psi)\n",
    "    \n",
    "    # calculating so\n",
    "    sums = np.zeros((len(so_dict),))\n",
    "    counts = np.zeros((len(so_dict),))\n",
    "    for review in reviews:\n",
    "        review_sum, review_count = text_so_measure(review)\n",
    "        sums += review_sum\n",
    "        counts += review_count\n",
    "    counts[counts == 0] = 1\n",
    "    so = sums / counts\n",
    "    \n",
    "    return psi * so"
   ]
  },
  {
   "cell_type": "code",
   "execution_count": 45,
   "metadata": {
    "scrolled": false
   },
   "outputs": [
    {
     "data": {
      "text/plain": [
       "array([ 0.        , -0.01547117,  0.        ,  0.        ,  0.        ,\n",
       "        0.        ,  0.        ,  0.0140647 ,  0.        ,  0.        ,\n",
       "        0.        ,  0.        ,  0.        ,  0.        ,  0.        ,\n",
       "       -0.04360056,  0.        ,  0.03656821,  0.        ,  0.        ,\n",
       "        0.        ,  0.        ,  0.00952072,  0.01172058,  0.        ,\n",
       "        0.        , -0.00046882,  0.03656821,  0.        ,  0.        ,\n",
       "        0.00679794, -0.01828411, -0.00738397, -0.0081831 ,  0.00052743,\n",
       "       -0.00323189,  0.00138666,  0.        , -0.00140647, -0.00229723])"
      ]
     },
     "execution_count": 45,
     "metadata": {},
     "output_type": "execute_result"
    }
   ],
   "source": [
    "# example usage\n",
    "item_aspect_weights('5ubokMNw8qfbX2WtxgJG1Q')"
   ]
  },
  {
   "cell_type": "code",
   "execution_count": 37,
   "metadata": {
    "scrolled": true
   },
   "outputs": [
    {
     "data": {
      "application/vnd.jupyter.widget-view+json": {
       "model_id": "344a053d3334478d94cf1c1b8f6f01f4",
       "version_major": 2,
       "version_minor": 0
      },
      "text/plain": [
       "HBox(children=(FloatProgress(value=0.0, max=1000.0), HTML(value='')))"
      ]
     },
     "metadata": {},
     "output_type": "display_data"
    },
    {
     "name": "stderr",
     "output_type": "stream",
     "text": [
      "C:\\ProgramData\\Anaconda3\\lib\\site-packages\\ipykernel_launcher.py:9: RuntimeWarning: invalid value encountered in true_divide\n",
      "  if __name__ == '__main__':\n"
     ]
    },
    {
     "name": "stdout",
     "output_type": "stream",
     "text": [
      "\n"
     ]
    }
   ],
   "source": [
    "# add column for item profile\n",
    "df_item['aspect_weights'] = 0\n",
    "df_item['aspect_weights'] = df_item['aspect_weights'].astype(object)\n",
    "df_item = df_item[:1000]\n",
    "df_item.head()\n",
    "\n",
    "for i, row in tqdm_notebook(df_item.iterrows(), total=len(df_item)):\n",
    "    df_item.at[i, 'aspect_weights'] = item_aspect_weights(row['item_id'])"
   ]
  },
  {
   "cell_type": "code",
   "execution_count": 38,
   "metadata": {
    "scrolled": true
   },
   "outputs": [],
   "source": [
    "# save produced item profiles\n",
    "item_profile_path = 'saved/item.csv'\n",
    "mkdir('/'.join(item_profile_path.split('/')[:-1]))\n",
    "df_item.to_csv(item_profile_path, sep='\\t', encoding='utf-8')"
   ]
  },
  {
   "cell_type": "markdown",
   "metadata": {},
   "source": [
    "## User Profiling\n",
    "\n",
    "We propose to use implicit aspect-based user profiles to model users. Concretely, we compute a vector of length $K$ for each user, where $K$ is the number of extracted aspects in [1]. Each item in the vector, which we denote as $w_{u,k}$, can be computed as $$w_{u,k} = \\sum_{\\{(u,i,r), r \\neq \\emptyset\\}} r(u,i) \\cdot w_{i,k}.$$"
   ]
  },
  {
   "cell_type": "code",
   "execution_count": 46,
   "metadata": {},
   "outputs": [],
   "source": [
    "def user_aspect_weights(user_id):\n",
    "    reviews = df_review[df_review[\"user_id\"] == user_id][[\"item_id\", \"stars\"]]\n",
    "    w_uk = np.zeros((len(so_dict),))\n",
    "    for i, row in reviews.iterrows():\n",
    "        item_row = df_item.loc[df_item[\"item_id\"] == row[\"item_id\"]]\n",
    "        if len(item_row) == 0:\n",
    "            continue\n",
    "        w_uk += float(row[\"stars\"]) * item_row.iloc[0][\"aspect_weights\"]\n",
    "    return w_uk"
   ]
  },
  {
   "cell_type": "code",
   "execution_count": 47,
   "metadata": {
    "scrolled": true
   },
   "outputs": [
    {
     "data": {
      "text/plain": [
       "array([0., 0., 0., 0., 0., 0., 0., 0., 0., 0., 0., 0., 0., 0., 0., 0., 0.,\n",
       "       0., 0., 0., 0., 0., 0., 0., 0., 0., 0., 0., 0., 0., 0., 0., 0., 0.,\n",
       "       0., 0., 0., 0., 0., 0.])"
      ]
     },
     "execution_count": 47,
     "metadata": {},
     "output_type": "execute_result"
    }
   ],
   "source": [
    "# example usage\n",
    "user_aspect_weights('bv2nCi5Qv5vroFiqKGopiw')"
   ]
  },
  {
   "cell_type": "code",
   "execution_count": 48,
   "metadata": {},
   "outputs": [
    {
     "data": {
      "application/vnd.jupyter.widget-view+json": {
       "model_id": "c67803beb8884bb98ddb6c37abab8368",
       "version_major": 2,
       "version_minor": 0
      },
      "text/plain": [
       "HBox(children=(FloatProgress(value=0.0, max=1000.0), HTML(value='')))"
      ]
     },
     "metadata": {},
     "output_type": "display_data"
    },
    {
     "name": "stdout",
     "output_type": "stream",
     "text": [
      "\n"
     ]
    }
   ],
   "source": [
    "# add column for user profile\n",
    "df_user['aspect_weights'] = 0\n",
    "df_user['aspect_weights'] = df_user['aspect_weights'].astype(object)\n",
    "df_user = df_user[:1000]\n",
    "\n",
    "for i, row in tqdm_notebook(df_user.iterrows(), total=len(df_user)):\n",
    "    df_user.at[i, 'aspect_weights'] = user_aspect_weights(row['user_id'])"
   ]
  },
  {
   "cell_type": "code",
   "execution_count": 49,
   "metadata": {},
   "outputs": [],
   "source": [
    "# save produced user profiles\n",
    "user_profile_path = 'saved/user.csv'\n",
    "mkdir('/'.join(user_profile_path.split('/')[:-1]))\n",
    "df_user.to_csv(user_profile_path, sep='\\t', encoding='utf-8')"
   ]
  },
  {
   "cell_type": "code",
   "execution_count": 51,
   "metadata": {},
   "outputs": [],
   "source": [
    "df_user.to_json('saved/user.json')\n",
    "df_item.to_json('saved/item.json')"
   ]
  },
  {
   "cell_type": "code",
   "execution_count": null,
   "metadata": {},
   "outputs": [],
   "source": []
  }
 ],
 "metadata": {
  "kernelspec": {
   "display_name": "Python 3",
   "language": "python",
   "name": "python3"
  },
  "language_info": {
   "codemirror_mode": {
    "name": "ipython",
    "version": 3
   },
   "file_extension": ".py",
   "mimetype": "text/x-python",
   "name": "python",
   "nbconvert_exporter": "python",
   "pygments_lexer": "ipython3",
   "version": "3.7.6"
  }
 },
 "nbformat": 4,
 "nbformat_minor": 2
}

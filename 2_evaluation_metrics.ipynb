{
 "cells": [
  {
   "cell_type": "code",
   "execution_count": 1,
   "metadata": {},
   "outputs": [],
   "source": [
    "import os\n",
    "import numpy as np\n",
    "import pandas as pd\n",
    "from tqdm import tqdm"
   ]
  },
  {
   "cell_type": "code",
   "execution_count": 2,
   "metadata": {},
   "outputs": [],
   "source": [
    "from dataset import YelpReviewsDataset\n",
    "from recommendation_engine import CFARecommendationEngine, RandomRecommendationEngine"
   ]
  },
  {
   "cell_type": "code",
   "execution_count": 3,
   "metadata": {},
   "outputs": [],
   "source": [
    "dataset = YelpReviewsDataset()"
   ]
  },
  {
   "cell_type": "markdown",
   "metadata": {},
   "source": [
    "## RMSE Error\n",
    "\n",
    "Given a dataset split, the RMSE error calculates the root mean squared prediction error of a recommendation engine on a sample of user ratings in the dataset split."
   ]
  },
  {
   "cell_type": "code",
   "execution_count": 4,
   "metadata": {},
   "outputs": [],
   "source": [
    "def rmse(model, dataset, mode='val', n_samples=64):\n",
    "    errors = []\n",
    "    ids = dataset.get_ids(mode)\n",
    "    if n_samples is not None:\n",
    "        ids = np.random.choice(ids, n_samples, replace=False)\n",
    "    for id in tqdm(ids):\n",
    "        data_point = dataset[id]\n",
    "        predicted = model.predict_score(data_point['user'], data_point['item_id'])\n",
    "        gt = dataset[id]['stars']\n",
    "        errors.append(predicted - gt)\n",
    "    errors = np.array(errors)[~np.isnan(errors)]\n",
    "    return np.sqrt(np.mean(np.square(errors)))"
   ]
  },
  {
   "cell_type": "code",
   "execution_count": 5,
   "metadata": {},
   "outputs": [
    {
     "name": "stderr",
     "output_type": "stream",
     "text": [
      "100%|██████████| 64/64 [00:29<00:00,  2.19it/s]"
     ]
    },
    {
     "name": "stdout",
     "output_type": "stream",
     "text": [
      "RMSE of Random Model: 2.0288399406493864\n"
     ]
    },
    {
     "name": "stderr",
     "output_type": "stream",
     "text": [
      "\n"
     ]
    }
   ],
   "source": [
    "random_model_rmse = rmse(RandomRecommendationEngine(), dataset, mode='val')\n",
    "print(\"RMSE of Random Model: {}\".format(random_model_rmse))"
   ]
  },
  {
   "cell_type": "code",
   "execution_count": 6,
   "metadata": {},
   "outputs": [
    {
     "name": "stdout",
     "output_type": "stream",
     "text": [
      "Initializing recommendation engine...\n"
     ]
    },
    {
     "name": "stderr",
     "output_type": "stream",
     "text": [
      "/home/jingyuny/projects/yelp/recommendation_engine.py:55: RuntimeWarning: invalid value encountered in true_divide\n",
      "  user_vectors = user_vectors / np.linalg.norm(user_vectors, axis=1, keepdims=True)\n",
      "  0%|          | 0/64 [00:00<?, ?it/s]"
     ]
    },
    {
     "name": "stdout",
     "output_type": "stream",
     "text": [
      "Recommendation engine initialization finished.\n"
     ]
    },
    {
     "name": "stderr",
     "output_type": "stream",
     "text": [
      "  3%|▎         | 2/64 [00:14<07:16,  7.03s/it]/home/jingyuny/projects/yelp/venv/lib/python3.5/site-packages/numpy/core/fromnumeric.py:3335: RuntimeWarning: Mean of empty slice.\n",
      "  out=out, **kwargs)\n",
      "/home/jingyuny/projects/yelp/venv/lib/python3.5/site-packages/numpy/core/_methods.py:161: RuntimeWarning: invalid value encountered in double_scalars\n",
      "  ret = ret.dtype.type(ret / rcount)\n",
      "/home/jingyuny/projects/yelp/recommendation_engine.py:73: RuntimeWarning: invalid value encountered in true_divide\n",
      "  return w_uk / np.linalg.norm(w_uk)\n",
      " 11%|█         | 7/64 [00:50<06:49,  7.18s/it]/home/jingyuny/projects/yelp/recommendation_engine.py:108: RuntimeWarning: invalid value encountered in double_scalars\n",
      "  item_sim = np.dot(item_vector, review_vector)/(np.linalg.norm(item_vector) * np.linalg.norm(review_vector))\n",
      "100%|██████████| 64/64 [08:01<00:00,  7.53s/it]\n"
     ]
    },
    {
     "name": "stdout",
     "output_type": "stream",
     "text": [
      "RMSE of Aspect-based Collaborative Filtering Model: 1.3068726595090912\n"
     ]
    }
   ],
   "source": [
    "random_model_rmse = rmse(CFARecommendationEngine(df_review=dataset.dataset_train), dataset, mode='val')\n",
    "print(\"RMSE of Aspect-based Collaborative Filtering Model: {}\".format(random_model_rmse))"
   ]
  },
  {
   "cell_type": "code",
   "execution_count": null,
   "metadata": {},
   "outputs": [],
   "source": []
  }
 ],
 "metadata": {
  "kernelspec": {
   "display_name": "Python 3 (yelp)",
   "language": "python",
   "name": "yelp"
  },
  "language_info": {
   "codemirror_mode": {
    "name": "ipython",
    "version": 3
   },
   "file_extension": ".py",
   "mimetype": "text/x-python",
   "name": "python",
   "nbconvert_exporter": "python",
   "pygments_lexer": "ipython3",
   "version": "3.5.2"
  }
 },
 "nbformat": 4,
 "nbformat_minor": 4
}

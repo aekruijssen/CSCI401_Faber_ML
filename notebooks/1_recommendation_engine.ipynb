{
 "cells": [
  {
   "cell_type": "code",
   "execution_count": 1,
   "metadata": {},
   "outputs": [],
   "source": [
    "import os\n",
    "import numpy as np\n",
    "import pandas as pd\n",
    "import faiss\n",
    "from tqdm import tqdm"
   ]
  },
  {
   "cell_type": "markdown",
   "metadata": {},
   "source": [
    "## Data Loading\n",
    "\n",
    "Load yelp dataset along with pre-computed user and item vectors."
   ]
  },
  {
   "cell_type": "code",
   "execution_count": 2,
   "metadata": {},
   "outputs": [],
   "source": [
    "# read datasets\n",
    "df_item = pd.read_json('../data/generated/item.json')\n",
    "df_user = pd.read_json('../data/generated/user.json')"
   ]
  },
  {
   "cell_type": "code",
   "execution_count": 3,
   "metadata": {},
   "outputs": [],
   "source": [
    "df_review = pd.read_csv('../data/yelp_data/review.csv')"
   ]
  },
  {
   "cell_type": "code",
   "execution_count": 4,
   "metadata": {},
   "outputs": [
    {
     "data": {
      "text/html": [
       "<div>\n",
       "<style scoped>\n",
       "    .dataframe tbody tr th:only-of-type {\n",
       "        vertical-align: middle;\n",
       "    }\n",
       "\n",
       "    .dataframe tbody tr th {\n",
       "        vertical-align: top;\n",
       "    }\n",
       "\n",
       "    .dataframe thead th {\n",
       "        text-align: right;\n",
       "    }\n",
       "</style>\n",
       "<table border=\"1\" class=\"dataframe\">\n",
       "  <thead>\n",
       "    <tr style=\"text-align: right;\">\n",
       "      <th></th>\n",
       "      <th>item_id</th>\n",
       "      <th>name</th>\n",
       "      <th>city</th>\n",
       "      <th>state</th>\n",
       "      <th>postal_code</th>\n",
       "      <th>latitude</th>\n",
       "      <th>longitude</th>\n",
       "      <th>stars</th>\n",
       "      <th>aspect_weights</th>\n",
       "    </tr>\n",
       "  </thead>\n",
       "  <tbody>\n",
       "    <tr>\n",
       "      <th>4</th>\n",
       "      <td>PfOCPjBrlQAnz__NXj9h_w</td>\n",
       "      <td>\"Brick House Tavern + Tap\"</td>\n",
       "      <td>Cuyahoga Falls</td>\n",
       "      <td>OH</td>\n",
       "      <td>44221</td>\n",
       "      <td>41.119535</td>\n",
       "      <td>-81.47569</td>\n",
       "      <td>3.5</td>\n",
       "      <td>[0.0005837712, 0.0022712347000000003, 0.0, 0.0...</td>\n",
       "    </tr>\n",
       "  </tbody>\n",
       "</table>\n",
       "</div>"
      ],
      "text/plain": [
       "                  item_id                        name            city state  \\\n",
       "4  PfOCPjBrlQAnz__NXj9h_w  \"Brick House Tavern + Tap\"  Cuyahoga Falls    OH   \n",
       "\n",
       "  postal_code   latitude  longitude  stars  \\\n",
       "4       44221  41.119535  -81.47569    3.5   \n",
       "\n",
       "                                      aspect_weights  \n",
       "4  [0.0005837712, 0.0022712347000000003, 0.0, 0.0...  "
      ]
     },
     "execution_count": 4,
     "metadata": {},
     "output_type": "execute_result"
    }
   ],
   "source": [
    "df_item.head(n=1)"
   ]
  },
  {
   "cell_type": "code",
   "execution_count": 5,
   "metadata": {},
   "outputs": [
    {
     "data": {
      "text/html": [
       "<div>\n",
       "<style scoped>\n",
       "    .dataframe tbody tr th:only-of-type {\n",
       "        vertical-align: middle;\n",
       "    }\n",
       "\n",
       "    .dataframe tbody tr th {\n",
       "        vertical-align: top;\n",
       "    }\n",
       "\n",
       "    .dataframe thead th {\n",
       "        text-align: right;\n",
       "    }\n",
       "</style>\n",
       "<table border=\"1\" class=\"dataframe\">\n",
       "  <thead>\n",
       "    <tr style=\"text-align: right;\">\n",
       "      <th></th>\n",
       "      <th>user_id</th>\n",
       "      <th>name</th>\n",
       "      <th>review_count</th>\n",
       "      <th>yelping_since</th>\n",
       "      <th>aspect_weights</th>\n",
       "    </tr>\n",
       "  </thead>\n",
       "  <tbody>\n",
       "    <tr>\n",
       "      <th>0</th>\n",
       "      <td>JJ-aSuM4pCFPdkfoZ34q0Q</td>\n",
       "      <td>Chris</td>\n",
       "      <td>10</td>\n",
       "      <td>2013-09-24</td>\n",
       "      <td>[0.0, 0.0, 0.0, 0.0, 0.0, 0.0, 0.0, 0.0, 0.0, ...</td>\n",
       "    </tr>\n",
       "  </tbody>\n",
       "</table>\n",
       "</div>"
      ],
      "text/plain": [
       "                  user_id   name  review_count yelping_since  \\\n",
       "0  JJ-aSuM4pCFPdkfoZ34q0Q  Chris            10    2013-09-24   \n",
       "\n",
       "                                      aspect_weights  \n",
       "0  [0.0, 0.0, 0.0, 0.0, 0.0, 0.0, 0.0, 0.0, 0.0, ...  "
      ]
     },
     "execution_count": 5,
     "metadata": {},
     "output_type": "execute_result"
    }
   ],
   "source": [
    "df_user.head(n=1)"
   ]
  },
  {
   "cell_type": "code",
   "execution_count": 6,
   "metadata": {},
   "outputs": [
    {
     "data": {
      "text/html": [
       "<div>\n",
       "<style scoped>\n",
       "    .dataframe tbody tr th:only-of-type {\n",
       "        vertical-align: middle;\n",
       "    }\n",
       "\n",
       "    .dataframe tbody tr th {\n",
       "        vertical-align: top;\n",
       "    }\n",
       "\n",
       "    .dataframe thead th {\n",
       "        text-align: right;\n",
       "    }\n",
       "</style>\n",
       "<table border=\"1\" class=\"dataframe\">\n",
       "  <thead>\n",
       "    <tr style=\"text-align: right;\">\n",
       "      <th></th>\n",
       "      <th>review_id</th>\n",
       "      <th>user_id</th>\n",
       "      <th>business_id</th>\n",
       "      <th>stars</th>\n",
       "      <th>date</th>\n",
       "      <th>text</th>\n",
       "      <th>useful</th>\n",
       "      <th>funny</th>\n",
       "      <th>cool</th>\n",
       "    </tr>\n",
       "  </thead>\n",
       "  <tbody>\n",
       "    <tr>\n",
       "      <th>0</th>\n",
       "      <td>vkVSCC7xljjrAI4UGfnKEQ</td>\n",
       "      <td>bv2nCi5Qv5vroFiqKGopiw</td>\n",
       "      <td>AEx2SYEUJmTxVVB18LlCwA</td>\n",
       "      <td>5</td>\n",
       "      <td>2016-05-28</td>\n",
       "      <td>Super simple place but amazing nonetheless. It...</td>\n",
       "      <td>0</td>\n",
       "      <td>0</td>\n",
       "      <td>0</td>\n",
       "    </tr>\n",
       "  </tbody>\n",
       "</table>\n",
       "</div>"
      ],
      "text/plain": [
       "                review_id                 user_id             business_id  \\\n",
       "0  vkVSCC7xljjrAI4UGfnKEQ  bv2nCi5Qv5vroFiqKGopiw  AEx2SYEUJmTxVVB18LlCwA   \n",
       "\n",
       "   stars        date                                               text  \\\n",
       "0      5  2016-05-28  Super simple place but amazing nonetheless. It...   \n",
       "\n",
       "   useful  funny  cool  \n",
       "0       0      0     0  "
      ]
     },
     "execution_count": 6,
     "metadata": {},
     "output_type": "execute_result"
    }
   ],
   "source": [
    "df_review.head(n=1)"
   ]
  },
  {
   "cell_type": "markdown",
   "metadata": {},
   "source": [
    "## Preparations\n",
    "\n",
    "Load index for fast nearby user retrieval and function for converting user information to feature vectors."
   ]
  },
  {
   "cell_type": "code",
   "execution_count": 7,
   "metadata": {},
   "outputs": [
    {
     "name": "stderr",
     "output_type": "stream",
     "text": [
      "/data/jingyuny/projects/yelp/venv/lib/python3.6/site-packages/ipykernel_launcher.py:7: RuntimeWarning: invalid value encountered in true_divide\n",
      "  import sys\n"
     ]
    }
   ],
   "source": [
    "# initialize the user index\n",
    "d = len(df_user.iloc[0]['aspect_weights'])\n",
    "index = faiss.IndexFlatIP(d)\n",
    "\n",
    "# populate the index with user vectors\n",
    "user_vectors = np.array(df_user['aspect_weights'].to_list()).astype(np.float32)\n",
    "user_vectors = user_vectors / np.linalg.norm(user_vectors, axis=1, keepdims=True)\n",
    "index.add(user_vectors)"
   ]
  },
  {
   "cell_type": "code",
   "execution_count": 8,
   "metadata": {},
   "outputs": [],
   "source": [
    "def get_user_vector(reviews):\n",
    "    # sample input: [{\"item_id\": \"xyz\", \"rating\": 5}]\n",
    "    # output: user vector\n",
    "    w_uk = np.zeros((d,))\n",
    "    for review in reviews:\n",
    "        item_row = df_item.loc[df_item[\"item_id\"] == review[\"item_id\"]]\n",
    "        if len(item_row) == 0:\n",
    "            continue\n",
    "        w_uk += float(review[\"rating\"]) * np.array(item_row.iloc[0][\"aspect_weights\"]).astype(float)\n",
    "    return w_uk / np.linalg.norm(w_uk)"
   ]
  },
  {
   "cell_type": "code",
   "execution_count": 9,
   "metadata": {},
   "outputs": [],
   "source": [
    "user_vector = get_user_vector([{\"item_id\": \"XOSRcvtaKc_Q5H1SAzN20A\", \"rating\": 5}])"
   ]
  },
  {
   "cell_type": "markdown",
   "metadata": {},
   "source": [
    "## Item Rating Prediction\n",
    "\n",
    "Inspired by section 4.2.2 of [1], we design our method for predicting ratings given (user, item) pairs. The rough procedure for predicting the ratings is described as follows:\n",
    "\n",
    "* We denote the target user and item as $u_m$ and $i_n$.\n",
    "* We find a list of all neighboring users $N_k(u_m)$ of the target user, where distance is measured by cosine similarity.\n",
    "* For each nearby user $u'$, we find all reviews $(u', i', r) \\in R(u')$ made by this user.\n",
    "* For each user, we save the tuple $(\\text{sim}(u_m, u'), \\text{sim}(i_n, i'), r)$ in a list `score_info`.\n",
    "* We compute the predicted score using the `score_info` list by taking the weighted some of the scores $r$ by weights $\\text{sim}(u_m, u') \\cdot \\text{sim}(i_n, i')$.\n",
    "\n",
    "Concerely, we use the following formula for item score prediction: $$ \\hat{r}(u_m, i_n) = \\frac{\\sum_{u' \\in N_k(u_m)} \\sum_{(u', i', r) \\in R(u')} \\text{sim}(u_m, u') \\cdot \\text{sim}(i_n, i') \\cdot r}{\\sum_{u' \\in N_k(u_m)} \\sum_{(u', i', r) \\in R(u')} \\text{sim}(u_m, u') \\cdot \\text{sim}(i_n, i')}.$$\n",
    "\n",
    "[1] Hernández-Rubio, M., Cantador, I., Bellogín, A. 2019. A comparative analysis of recommender systems based on item aspect opinions extracted from user reviews. User Modeling and User-Adapted Interaction 29(2), 381-441."
   ]
  },
  {
   "cell_type": "code",
   "execution_count": 10,
   "metadata": {},
   "outputs": [],
   "source": [
    "def rate_item(user_vector, item_id, k=10):\n",
    "    # fetch item vector\n",
    "    item_vector = np.array(df_item[df_item[\"item_id\"] == item_id].iloc[0][\"aspect_weights\"]).astype(float)\n",
    "\n",
    "    # get the nearest k users given the user vector\n",
    "    nearest_user_dists, nearest_users = index.search(user_vector.reshape((1,d)).astype(np.float32), k)\n",
    "    nearest_user_dists = nearest_user_dists / np.linalg.norm(nearest_user_dists)\n",
    "\n",
    "    score_info = []\n",
    "\n",
    "    # for each nearby user...\n",
    "    for user_ix in nearest_users[0]:\n",
    "        # get his/her similarity value the queried user\n",
    "        user_id = df_user.iloc[user_ix][\"user_id\"]\n",
    "        nearby_vector = np.array(df_user[df_user[\"user_id\"] == user_id].iloc[0][\"aspect_weights\"]).astype(float)\n",
    "        user_sim = np.dot(user_vector, nearby_vector)/(np.linalg.norm(user_vector) * np.linalg.norm(nearby_vector))\n",
    "\n",
    "        # iterate all his/her reviews\n",
    "        reviews = df_review[df_review[\"user_id\"] == user_id]\n",
    "        for _, review in reviews.iterrows():\n",
    "            # record the (user similarity, item similarity, reviewed score) tuple\n",
    "            item = df_item[df_item[\"item_id\"] == review[\"business_id\"]]\n",
    "            if len(item) == 0:\n",
    "                continue\n",
    "            review_vector = np.array(item.iloc[0][\"aspect_weights\"]).astype(float)\n",
    "            item_sim = np.dot(item_vector, review_vector)/(np.linalg.norm(item_vector) * np.linalg.norm(review_vector))\n",
    "            score_info.append([user_sim, item_sim, review[\"stars\"]])\n",
    "\n",
    "    # accumulate results\n",
    "    weights = np.array([x[0] * x[1] for x in score_info])\n",
    "    weights /= np.sum(weights)\n",
    "    ratings = np.array([x[2] for x in score_info])\n",
    "    return weights.dot(ratings)"
   ]
  },
  {
   "cell_type": "code",
   "execution_count": 11,
   "metadata": {},
   "outputs": [
    {
     "data": {
      "text/plain": [
       "2.3000000722859193"
      ]
     },
     "execution_count": 11,
     "metadata": {},
     "output_type": "execute_result"
    }
   ],
   "source": [
    "rate_item(user_vector, \"XOSRcvtaKc_Q5H1SAzN20A\")"
   ]
  },
  {
   "cell_type": "code",
   "execution_count": 12,
   "metadata": {},
   "outputs": [],
   "source": [
    "def predict_score(user, item_id):\n",
    "    # sample user input: { \n",
    "    #     \"latitude\": 40,\n",
    "    #     \"longitude\": -80,\n",
    "    #     \"...\": (other info),\n",
    "    #     \"reviews\": [\n",
    "    #         {\n",
    "    #             \"item_id\": \"A\",\n",
    "    #             \"rating\": 4.5\n",
    "    #         }\n",
    "    #     ]\n",
    "    # }\n",
    "    return rate_item(get_user_vector(user[\"reviews\"]), item_id)"
   ]
  },
  {
   "cell_type": "markdown",
   "metadata": {},
   "source": [
    "## Process Reviews\n",
    "\n",
    "Clean up the reviews dataframe and save to `reviews.json`."
   ]
  },
  {
   "cell_type": "code",
   "execution_count": 218,
   "metadata": {},
   "outputs": [],
   "source": [
    "df_item_to_join = df_item[['aspect_weights', 'item_id']].rename(columns={'aspect_weights': 'business_vec'}).set_index('item_id')\n",
    "df_user_to_join = df_user[['aspect_weights', 'user_id']].rename(columns={'aspect_weights': 'user_vec'}).set_index('user_id')"
   ]
  },
  {
   "cell_type": "code",
   "execution_count": 219,
   "metadata": {},
   "outputs": [],
   "source": [
    "df_review_join = df_review.drop(columns=['useful', 'funny', 'cool', 'date']).join(df_item_to_join, on='business_id').join(df_user_to_join, on='user_id').dropna()"
   ]
  },
  {
   "cell_type": "code",
   "execution_count": 220,
   "metadata": {},
   "outputs": [],
   "source": [
    "user_avg = df_review_join.groupby(['user_id'])[['user_id', 'stars']].mean().rename(columns={'stars': 'user_avg_stars'})\n",
    "df_review_join = df_review_join.join(user_avg, on='user_id')"
   ]
  },
  {
   "cell_type": "code",
   "execution_count": 221,
   "metadata": {},
   "outputs": [],
   "source": [
    "df_review_join = df_review_join.reset_index().drop(columns=['index'])"
   ]
  },
  {
   "cell_type": "code",
   "execution_count": 222,
   "metadata": {},
   "outputs": [],
   "source": [
    "drop_business_vec = np.array(df_review_join['business_vec'].tolist(), dtype=float)\n",
    "drop_business_vec = np.sum(np.isnan(business_vec), axis=1).astype(int)\n",
    "drop_user_vec = np.array(df_review_join['user_vec'].tolist(), dtype=float)\n",
    "drop_user_vec = np.sum(np.isnan(user_vec), axis=1).astype(int)\n",
    "drop_indices = np.logical_or(drop_business_vec, drop_user_vec)"
   ]
  },
  {
   "cell_type": "code",
   "execution_count": 223,
   "metadata": {},
   "outputs": [],
   "source": [
    "df_review_join['drop_flag'] = pd.Series(drop_indices)"
   ]
  },
  {
   "cell_type": "code",
   "execution_count": 224,
   "metadata": {},
   "outputs": [],
   "source": [
    "df_review_join = df_review_join[df_review_join['drop_flag'] == False].drop(columns=['drop_flag'])\n",
    "df_review_join = df_review_join.reset_index().drop(columns=['index'])"
   ]
  },
  {
   "cell_type": "code",
   "execution_count": 225,
   "metadata": {},
   "outputs": [
    {
     "data": {
      "text/html": [
       "<div>\n",
       "<style scoped>\n",
       "    .dataframe tbody tr th:only-of-type {\n",
       "        vertical-align: middle;\n",
       "    }\n",
       "\n",
       "    .dataframe tbody tr th {\n",
       "        vertical-align: top;\n",
       "    }\n",
       "\n",
       "    .dataframe thead th {\n",
       "        text-align: right;\n",
       "    }\n",
       "</style>\n",
       "<table border=\"1\" class=\"dataframe\">\n",
       "  <thead>\n",
       "    <tr style=\"text-align: right;\">\n",
       "      <th></th>\n",
       "      <th>review_id</th>\n",
       "      <th>user_id</th>\n",
       "      <th>business_id</th>\n",
       "      <th>stars</th>\n",
       "      <th>text</th>\n",
       "      <th>business_vec</th>\n",
       "      <th>user_vec</th>\n",
       "      <th>user_avg_stars</th>\n",
       "    </tr>\n",
       "  </thead>\n",
       "  <tbody>\n",
       "    <tr>\n",
       "      <th>3217171</th>\n",
       "      <td>evfB2Xzw4u7aYftWClQfeg</td>\n",
       "      <td>mPjPyipaD0C_myqWqDipZg</td>\n",
       "      <td>--SrzpvFLwP_YFwB_Cetow</td>\n",
       "      <td>2</td>\n",
       "      <td>So after reading Precilla C. review, I decided...</td>\n",
       "      <td>[0.0004520796, 0.020557723400000002, 0.0, 0.0,...</td>\n",
       "      <td>[0.11093226190000001, 0.7127692474, 0.00199766...</td>\n",
       "      <td>2.818182</td>\n",
       "    </tr>\n",
       "    <tr>\n",
       "      <th>3217172</th>\n",
       "      <td>-CJNPrDWgIkorx4iEZJXIg</td>\n",
       "      <td>mPjPyipaD0C_myqWqDipZg</td>\n",
       "      <td>pOEL97ld-FJMKO8Ki8JmYg</td>\n",
       "      <td>3</td>\n",
       "      <td>Spring rolls was pretty good, cod was a bit ra...</td>\n",
       "      <td>[0.0032446463, 0.0064399176, 0.0, 0.0, 0.00132...</td>\n",
       "      <td>[0.11093226190000001, 0.7127692474, 0.00199766...</td>\n",
       "      <td>2.818182</td>\n",
       "    </tr>\n",
       "    <tr>\n",
       "      <th>3217173</th>\n",
       "      <td>W9eVvOcpBvG6lpJPoJOxuA</td>\n",
       "      <td>mPjPyipaD0C_myqWqDipZg</td>\n",
       "      <td>5ubokMNw8qfbX2WtxgJG1Q</td>\n",
       "      <td>4</td>\n",
       "      <td>Had a 8 dish set meal, was enough for 10 peopl...</td>\n",
       "      <td>[0.0005274262000000001, 0.009520718400000001, ...</td>\n",
       "      <td>[0.11093226190000001, 0.7127692474, 0.00199766...</td>\n",
       "      <td>2.818182</td>\n",
       "    </tr>\n",
       "    <tr>\n",
       "      <th>3217174</th>\n",
       "      <td>hqQ1UTFKMN2P1ezUow48OQ</td>\n",
       "      <td>mPjPyipaD0C_myqWqDipZg</td>\n",
       "      <td>EO3i5kTUG7_S2OIQ23sdSA</td>\n",
       "      <td>3</td>\n",
       "      <td>A small, cozy family run Authentic korean rest...</td>\n",
       "      <td>[0.0008048290000000001, 0.046277666, 0.0, 0.0,...</td>\n",
       "      <td>[0.11093226190000001, 0.7127692474, 0.00199766...</td>\n",
       "      <td>2.818182</td>\n",
       "    </tr>\n",
       "    <tr>\n",
       "      <th>3217175</th>\n",
       "      <td>ldsIs3sGXPJ7WM7VyAm4lQ</td>\n",
       "      <td>mPjPyipaD0C_myqWqDipZg</td>\n",
       "      <td>HloEEXm_QzEpycuwA_RtQA</td>\n",
       "      <td>3</td>\n",
       "      <td>Really nice atmosphere and settings and very c...</td>\n",
       "      <td>[0.000623053, 0.0690150971, 0.0, 0.0, 0.002973...</td>\n",
       "      <td>[0.11093226190000001, 0.7127692474, 0.00199766...</td>\n",
       "      <td>2.818182</td>\n",
       "    </tr>\n",
       "  </tbody>\n",
       "</table>\n",
       "</div>"
      ],
      "text/plain": [
       "                      review_id                 user_id  \\\n",
       "3217171  evfB2Xzw4u7aYftWClQfeg  mPjPyipaD0C_myqWqDipZg   \n",
       "3217172  -CJNPrDWgIkorx4iEZJXIg  mPjPyipaD0C_myqWqDipZg   \n",
       "3217173  W9eVvOcpBvG6lpJPoJOxuA  mPjPyipaD0C_myqWqDipZg   \n",
       "3217174  hqQ1UTFKMN2P1ezUow48OQ  mPjPyipaD0C_myqWqDipZg   \n",
       "3217175  ldsIs3sGXPJ7WM7VyAm4lQ  mPjPyipaD0C_myqWqDipZg   \n",
       "\n",
       "                    business_id  stars  \\\n",
       "3217171  --SrzpvFLwP_YFwB_Cetow      2   \n",
       "3217172  pOEL97ld-FJMKO8Ki8JmYg      3   \n",
       "3217173  5ubokMNw8qfbX2WtxgJG1Q      4   \n",
       "3217174  EO3i5kTUG7_S2OIQ23sdSA      3   \n",
       "3217175  HloEEXm_QzEpycuwA_RtQA      3   \n",
       "\n",
       "                                                      text  \\\n",
       "3217171  So after reading Precilla C. review, I decided...   \n",
       "3217172  Spring rolls was pretty good, cod was a bit ra...   \n",
       "3217173  Had a 8 dish set meal, was enough for 10 peopl...   \n",
       "3217174  A small, cozy family run Authentic korean rest...   \n",
       "3217175  Really nice atmosphere and settings and very c...   \n",
       "\n",
       "                                              business_vec  \\\n",
       "3217171  [0.0004520796, 0.020557723400000002, 0.0, 0.0,...   \n",
       "3217172  [0.0032446463, 0.0064399176, 0.0, 0.0, 0.00132...   \n",
       "3217173  [0.0005274262000000001, 0.009520718400000001, ...   \n",
       "3217174  [0.0008048290000000001, 0.046277666, 0.0, 0.0,...   \n",
       "3217175  [0.000623053, 0.0690150971, 0.0, 0.0, 0.002973...   \n",
       "\n",
       "                                                  user_vec  user_avg_stars  \n",
       "3217171  [0.11093226190000001, 0.7127692474, 0.00199766...        2.818182  \n",
       "3217172  [0.11093226190000001, 0.7127692474, 0.00199766...        2.818182  \n",
       "3217173  [0.11093226190000001, 0.7127692474, 0.00199766...        2.818182  \n",
       "3217174  [0.11093226190000001, 0.7127692474, 0.00199766...        2.818182  \n",
       "3217175  [0.11093226190000001, 0.7127692474, 0.00199766...        2.818182  "
      ]
     },
     "execution_count": 225,
     "metadata": {},
     "output_type": "execute_result"
    }
   ],
   "source": [
    "df_review_join.tail()"
   ]
  },
  {
   "cell_type": "code",
   "execution_count": 226,
   "metadata": {},
   "outputs": [],
   "source": [
    "df_review_join.to_json('../data/generated/review.json')"
   ]
  },
  {
   "cell_type": "code",
   "execution_count": null,
   "metadata": {},
   "outputs": [],
   "source": []
  }
 ],
 "metadata": {
  "kernelspec": {
   "display_name": "Python 3",
   "language": "python",
   "name": "python3"
  },
  "language_info": {
   "codemirror_mode": {
    "name": "ipython",
    "version": 3
   },
   "file_extension": ".py",
   "mimetype": "text/x-python",
   "name": "python",
   "nbconvert_exporter": "python",
   "pygments_lexer": "ipython3",
   "version": "3.6.8"
  }
 },
 "nbformat": 4,
 "nbformat_minor": 4
}

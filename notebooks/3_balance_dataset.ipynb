{
 "cells": [
  {
   "cell_type": "code",
   "execution_count": 3,
   "metadata": {},
   "outputs": [],
   "source": [
    "import pandas as pd\n",
    "import numpy as np\n",
    "import matplotlib.pyplot as plt"
   ]
  },
  {
   "cell_type": "code",
   "execution_count": 2,
   "metadata": {},
   "outputs": [],
   "source": [
    "df = pd.read_json('../data/generated/review.json')"
   ]
  },
  {
   "cell_type": "code",
   "execution_count": 4,
   "metadata": {},
   "outputs": [],
   "source": [
    "ratings = df['stars'].tolist()"
   ]
  },
  {
   "cell_type": "code",
   "execution_count": 7,
   "metadata": {},
   "outputs": [
    {
     "data": {
      "image/png": "[encoded data removed]",
      "text/plain": [
       "<Figure size 432x288 with 1 Axes>"
      ]
     },
     "metadata": {
      "needs_background": "light"
     },
     "output_type": "display_data"
    }
   ],
   "source": [
    "n, bins, patches = plt.hist(ratings, 50, facecolor='g', alpha=0.75)\n",
    "\n",
    "plt.xlabel('Rating')\n",
    "plt.ylabel('Count')\n",
    "plt.title('Histogram of Ratings')\n",
    "plt.grid(True)\n",
    "plt.show()"
   ]
  },
  {
   "cell_type": "code",
   "execution_count": 9,
   "metadata": {},
   "outputs": [],
   "source": [
    "dfs = []\n",
    "for i in [1, 2, 3, 4, 5]:\n",
    "    dfs.append(df[df['stars'] == i])"
   ]
  },
  {
   "cell_type": "code",
   "execution_count": 13,
   "metadata": {},
   "outputs": [],
   "source": [
    "min_count = np.min([len(d) for d in dfs])\n",
    "for i in range(len(dfs)):\n",
    "    dfs[i] = dfs[i].iloc[:min_count]"
   ]
  },
  {
   "cell_type": "code",
   "execution_count": 15,
   "metadata": {},
   "outputs": [],
   "source": [
    "concat_df = pd.concat(dfs)"
   ]
  },
  {
   "cell_type": "code",
   "execution_count": 16,
   "metadata": {},
   "outputs": [],
   "source": [
    "concat_df.to_json('../data/generated/review_balanced.json')"
   ]
  },
  {
   "cell_type": "code",
   "execution_count": 18,
   "metadata": {},
   "outputs": [
    {
     "data": {
      "text/html": [
       "<div>\n",
       "<style scoped>\n",
       "    .dataframe tbody tr th:only-of-type {\n",
       "        vertical-align: middle;\n",
       "    }\n",
       "\n",
       "    .dataframe tbody tr th {\n",
       "        vertical-align: top;\n",
       "    }\n",
       "\n",
       "    .dataframe thead th {\n",
       "        text-align: right;\n",
       "    }\n",
       "</style>\n",
       "<table border=\"1\" class=\"dataframe\">\n",
       "  <thead>\n",
       "    <tr style=\"text-align: right;\">\n",
       "      <th></th>\n",
       "      <th>review_id</th>\n",
       "      <th>user_id</th>\n",
       "      <th>business_id</th>\n",
       "      <th>stars</th>\n",
       "      <th>text</th>\n",
       "      <th>business_vec</th>\n",
       "      <th>user_vec</th>\n",
       "      <th>user_avg_stars</th>\n",
       "    </tr>\n",
       "  </thead>\n",
       "  <tbody>\n",
       "    <tr>\n",
       "      <th>14</th>\n",
       "      <td>WYDFJOBOl7cycd7gN-c_xA</td>\n",
       "      <td>u0LXt3Uea_GidxRW1xcsfg</td>\n",
       "      <td>zgQHtqX0gqMw1nlBZl2VnQ</td>\n",
       "      <td>1</td>\n",
       "      <td>really excited to hear of this restaurant comi...</td>\n",
       "      <td>[0.0032276331, 0.019569139000000003, 0.0, 0.0,...</td>\n",
       "      <td>[0.8104471830000001, 2.9303349434, 0.175150252...</td>\n",
       "      <td>3.216667</td>\n",
       "    </tr>\n",
       "    <tr>\n",
       "      <th>17</th>\n",
       "      <td>ypjtMQLKdAwKGRS-KU7oxA</td>\n",
       "      <td>u0LXt3Uea_GidxRW1xcsfg</td>\n",
       "      <td>hjk3ox7w1akbEuOgTJ03Bw</td>\n",
       "      <td>1</td>\n",
       "      <td>Food is very bland - not authentic at all.\\n\\n...</td>\n",
       "      <td>[0.000988533, 0.0144721234, 0.0, 0.0, 0.001525...</td>\n",
       "      <td>[0.8104471830000001, 2.9303349434, 0.175150252...</td>\n",
       "      <td>3.216667</td>\n",
       "    </tr>\n",
       "    <tr>\n",
       "      <th>23</th>\n",
       "      <td>z9e32TaBomM5uY7fHYqYKg</td>\n",
       "      <td>u0LXt3Uea_GidxRW1xcsfg</td>\n",
       "      <td>I8rveLd-dl81u6c8YqAxmw</td>\n",
       "      <td>1</td>\n",
       "      <td>If you have not yet tried Wasabi - don't bothe...</td>\n",
       "      <td>[0.0017777778, 0.0035555556, 0.0, 0.0, 0.0, 0....</td>\n",
       "      <td>[0.8104471830000001, 2.9303349434, 0.175150252...</td>\n",
       "      <td>3.216667</td>\n",
       "    </tr>\n",
       "    <tr>\n",
       "      <th>31</th>\n",
       "      <td>Q0j8DFqW_zWNa-H1QuuPgg</td>\n",
       "      <td>u0LXt3Uea_GidxRW1xcsfg</td>\n",
       "      <td>TrOgTZ0DfmQxvpTehiNibQ</td>\n",
       "      <td>1</td>\n",
       "      <td>worse customer service ever. \\nManager on duty...</td>\n",
       "      <td>[0.000358439, 0.0134873601, 0.0, -0.0315426318...</td>\n",
       "      <td>[0.8104471830000001, 2.9303349434, 0.175150252...</td>\n",
       "      <td>3.216667</td>\n",
       "    </tr>\n",
       "    <tr>\n",
       "      <th>43</th>\n",
       "      <td>ckUKRR2BV7wg9ehIRiZ6aw</td>\n",
       "      <td>u0LXt3Uea_GidxRW1xcsfg</td>\n",
       "      <td>806kkDGaRCJ4lZLRcEf-iw</td>\n",
       "      <td>1</td>\n",
       "      <td>after reading the reviews on yelp, my boyfrien...</td>\n",
       "      <td>[0.0115749901, 0.0140977444, 0.0, 0.0, 0.00169...</td>\n",
       "      <td>[0.8104471830000001, 2.9303349434, 0.175150252...</td>\n",
       "      <td>3.216667</td>\n",
       "    </tr>\n",
       "  </tbody>\n",
       "</table>\n",
       "</div>"
      ],
      "text/plain": [
       "                 review_id                 user_id             business_id  \\\n",
       "14  WYDFJOBOl7cycd7gN-c_xA  u0LXt3Uea_GidxRW1xcsfg  zgQHtqX0gqMw1nlBZl2VnQ   \n",
       "17  ypjtMQLKdAwKGRS-KU7oxA  u0LXt3Uea_GidxRW1xcsfg  hjk3ox7w1akbEuOgTJ03Bw   \n",
       "23  z9e32TaBomM5uY7fHYqYKg  u0LXt3Uea_GidxRW1xcsfg  I8rveLd-dl81u6c8YqAxmw   \n",
       "31  Q0j8DFqW_zWNa-H1QuuPgg  u0LXt3Uea_GidxRW1xcsfg  TrOgTZ0DfmQxvpTehiNibQ   \n",
       "43  ckUKRR2BV7wg9ehIRiZ6aw  u0LXt3Uea_GidxRW1xcsfg  806kkDGaRCJ4lZLRcEf-iw   \n",
       "\n",
       "    stars                                               text  \\\n",
       "14      1  really excited to hear of this restaurant comi...   \n",
       "17      1  Food is very bland - not authentic at all.\\n\\n...   \n",
       "23      1  If you have not yet tried Wasabi - don't bothe...   \n",
       "31      1  worse customer service ever. \\nManager on duty...   \n",
       "43      1  after reading the reviews on yelp, my boyfrien...   \n",
       "\n",
       "                                         business_vec  \\\n",
       "14  [0.0032276331, 0.019569139000000003, 0.0, 0.0,...   \n",
       "17  [0.000988533, 0.0144721234, 0.0, 0.0, 0.001525...   \n",
       "23  [0.0017777778, 0.0035555556, 0.0, 0.0, 0.0, 0....   \n",
       "31  [0.000358439, 0.0134873601, 0.0, -0.0315426318...   \n",
       "43  [0.0115749901, 0.0140977444, 0.0, 0.0, 0.00169...   \n",
       "\n",
       "                                             user_vec  user_avg_stars  \n",
       "14  [0.8104471830000001, 2.9303349434, 0.175150252...        3.216667  \n",
       "17  [0.8104471830000001, 2.9303349434, 0.175150252...        3.216667  \n",
       "23  [0.8104471830000001, 2.9303349434, 0.175150252...        3.216667  \n",
       "31  [0.8104471830000001, 2.9303349434, 0.175150252...        3.216667  \n",
       "43  [0.8104471830000001, 2.9303349434, 0.175150252...        3.216667  "
      ]
     },
     "execution_count": 18,
     "metadata": {},
     "output_type": "execute_result"
    }
   ],
   "source": [
    "concat_df.head()"
   ]
  },
  {
   "cell_type": "code",
   "execution_count": null,
   "metadata": {},
   "outputs": [],
   "source": []
  }
 ],
 "metadata": {
  "kernelspec": {
   "display_name": "Python 3 (yelp)",
   "language": "python",
   "name": "python3-yelp"
  },
  "language_info": {
   "codemirror_mode": {
    "name": "ipython",
    "version": 3
   },
   "file_extension": ".py",
   "mimetype": "text/x-python",
   "name": "python",
   "nbconvert_exporter": "python",
   "pygments_lexer": "ipython3",
   "version": "3.6.8"
  }
 },
 "nbformat": 4,
 "nbformat_minor": 4
}

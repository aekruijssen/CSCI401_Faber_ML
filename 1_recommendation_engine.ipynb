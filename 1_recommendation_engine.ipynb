{
 "cells": [
  {
   "cell_type": "code",
   "execution_count": 1,
   "metadata": {},
   "outputs": [],
   "source": [
    "import os\n",
    "import numpy as np\n",
    "import pandas as pd\n",
    "import faiss\n",
    "from tqdm import tqdm"
   ]
  },
  {
   "cell_type": "markdown",
   "metadata": {},
   "source": [
    "## Data Loading\n",
    "\n",
    "Load yelp dataset along with pre-computed user and item vectors."
   ]
  },
  {
   "cell_type": "code",
   "execution_count": 2,
   "metadata": {},
   "outputs": [],
   "source": [
    "# read datasets\n",
    "df_item = pd.read_json('saved/item.json')\n",
    "df_user = pd.read_json('saved/user.json')"
   ]
  },
  {
   "cell_type": "code",
   "execution_count": 3,
   "metadata": {},
   "outputs": [],
   "source": [
    "df_review = pd.read_csv('data/review.csv')"
   ]
  },
  {
   "cell_type": "code",
   "execution_count": 4,
   "metadata": {},
   "outputs": [
    {
     "data": {
      "text/html": [
       "<div>\n",
       "<style scoped>\n",
       "    .dataframe tbody tr th:only-of-type {\n",
       "        vertical-align: middle;\n",
       "    }\n",
       "\n",
       "    .dataframe tbody tr th {\n",
       "        vertical-align: top;\n",
       "    }\n",
       "\n",
       "    .dataframe thead th {\n",
       "        text-align: right;\n",
       "    }\n",
       "</style>\n",
       "<table border=\"1\" class=\"dataframe\">\n",
       "  <thead>\n",
       "    <tr style=\"text-align: right;\">\n",
       "      <th></th>\n",
       "      <th>aspect_weights</th>\n",
       "      <th>city</th>\n",
       "      <th>item_id</th>\n",
       "      <th>latitude</th>\n",
       "      <th>longitude</th>\n",
       "      <th>name</th>\n",
       "      <th>postal_code</th>\n",
       "      <th>stars</th>\n",
       "      <th>state</th>\n",
       "    </tr>\n",
       "  </thead>\n",
       "  <tbody>\n",
       "    <tr>\n",
       "      <th>10</th>\n",
       "      <td>[0.0, 0.0, 0.0, 0.0, 0.0, 0.0, 0.0, 0.0, -0.01...</td>\n",
       "      <td>Houston</td>\n",
       "      <td>XOSRcvtaKc_Q5H1SAzN20A</td>\n",
       "      <td>40.241548</td>\n",
       "      <td>-80.212815</td>\n",
       "      <td>\"East Coast Coffee\"</td>\n",
       "      <td>15342</td>\n",
       "      <td>4.5</td>\n",
       "      <td>PA</td>\n",
       "    </tr>\n",
       "  </tbody>\n",
       "</table>\n",
       "</div>"
      ],
      "text/plain": [
       "                                       aspect_weights     city  \\\n",
       "10  [0.0, 0.0, 0.0, 0.0, 0.0, 0.0, 0.0, 0.0, -0.01...  Houston   \n",
       "\n",
       "                   item_id   latitude  longitude                 name  \\\n",
       "10  XOSRcvtaKc_Q5H1SAzN20A  40.241548 -80.212815  \"East Coast Coffee\"   \n",
       "\n",
       "   postal_code  stars state  \n",
       "10       15342    4.5    PA  "
      ]
     },
     "execution_count": 4,
     "metadata": {},
     "output_type": "execute_result"
    }
   ],
   "source": [
    "df_item.head(n=1)"
   ]
  },
  {
   "cell_type": "code",
   "execution_count": 5,
   "metadata": {
    "scrolled": false
   },
   "outputs": [
    {
     "data": {
      "text/html": [
       "<div>\n",
       "<style scoped>\n",
       "    .dataframe tbody tr th:only-of-type {\n",
       "        vertical-align: middle;\n",
       "    }\n",
       "\n",
       "    .dataframe tbody tr th {\n",
       "        vertical-align: top;\n",
       "    }\n",
       "\n",
       "    .dataframe thead th {\n",
       "        text-align: right;\n",
       "    }\n",
       "</style>\n",
       "<table border=\"1\" class=\"dataframe\">\n",
       "  <thead>\n",
       "    <tr style=\"text-align: right;\">\n",
       "      <th></th>\n",
       "      <th>aspect_weights</th>\n",
       "      <th>name</th>\n",
       "      <th>review_count</th>\n",
       "      <th>user_id</th>\n",
       "      <th>yelping_since</th>\n",
       "    </tr>\n",
       "  </thead>\n",
       "  <tbody>\n",
       "    <tr>\n",
       "      <th>0</th>\n",
       "      <td>[0.0, 0.0, 0.0, 0.0, 0.0, 0.0, 0.0, 0.0, 0.0, ...</td>\n",
       "      <td>Chris</td>\n",
       "      <td>10</td>\n",
       "      <td>JJ-aSuM4pCFPdkfoZ34q0Q</td>\n",
       "      <td>2013-09-24</td>\n",
       "    </tr>\n",
       "  </tbody>\n",
       "</table>\n",
       "</div>"
      ],
      "text/plain": [
       "                                      aspect_weights   name  review_count  \\\n",
       "0  [0.0, 0.0, 0.0, 0.0, 0.0, 0.0, 0.0, 0.0, 0.0, ...  Chris            10   \n",
       "\n",
       "                  user_id yelping_since  \n",
       "0  JJ-aSuM4pCFPdkfoZ34q0Q    2013-09-24  "
      ]
     },
     "execution_count": 5,
     "metadata": {},
     "output_type": "execute_result"
    }
   ],
   "source": [
    "df_user.head(n=1)"
   ]
  },
  {
   "cell_type": "code",
   "execution_count": 6,
   "metadata": {
    "scrolled": false
   },
   "outputs": [
    {
     "data": {
      "text/html": [
       "<div>\n",
       "<style scoped>\n",
       "    .dataframe tbody tr th:only-of-type {\n",
       "        vertical-align: middle;\n",
       "    }\n",
       "\n",
       "    .dataframe tbody tr th {\n",
       "        vertical-align: top;\n",
       "    }\n",
       "\n",
       "    .dataframe thead th {\n",
       "        text-align: right;\n",
       "    }\n",
       "</style>\n",
       "<table border=\"1\" class=\"dataframe\">\n",
       "  <thead>\n",
       "    <tr style=\"text-align: right;\">\n",
       "      <th></th>\n",
       "      <th>review_id</th>\n",
       "      <th>user_id</th>\n",
       "      <th>business_id</th>\n",
       "      <th>stars</th>\n",
       "      <th>date</th>\n",
       "      <th>text</th>\n",
       "      <th>useful</th>\n",
       "      <th>funny</th>\n",
       "      <th>cool</th>\n",
       "    </tr>\n",
       "  </thead>\n",
       "  <tbody>\n",
       "    <tr>\n",
       "      <th>0</th>\n",
       "      <td>vkVSCC7xljjrAI4UGfnKEQ</td>\n",
       "      <td>bv2nCi5Qv5vroFiqKGopiw</td>\n",
       "      <td>AEx2SYEUJmTxVVB18LlCwA</td>\n",
       "      <td>5</td>\n",
       "      <td>2016-05-28</td>\n",
       "      <td>Super simple place but amazing nonetheless. It...</td>\n",
       "      <td>0</td>\n",
       "      <td>0</td>\n",
       "      <td>0</td>\n",
       "    </tr>\n",
       "  </tbody>\n",
       "</table>\n",
       "</div>"
      ],
      "text/plain": [
       "                review_id                 user_id             business_id  \\\n",
       "0  vkVSCC7xljjrAI4UGfnKEQ  bv2nCi5Qv5vroFiqKGopiw  AEx2SYEUJmTxVVB18LlCwA   \n",
       "\n",
       "   stars        date                                               text  \\\n",
       "0      5  2016-05-28  Super simple place but amazing nonetheless. It...   \n",
       "\n",
       "   useful  funny  cool  \n",
       "0       0      0     0  "
      ]
     },
     "execution_count": 6,
     "metadata": {},
     "output_type": "execute_result"
    }
   ],
   "source": [
    "df_review.head(n=1)"
   ]
  },
  {
   "cell_type": "markdown",
   "metadata": {},
   "source": [
    "## Preparations\n",
    "\n",
    "Load index for fast nearby user retrieval and function for converting user information to feature vectors."
   ]
  },
  {
   "cell_type": "code",
   "execution_count": 7,
   "metadata": {},
   "outputs": [],
   "source": [
    "# initialize the user index\n",
    "d = len(df_user.iloc[0]['aspect_weights'])\n",
    "index = faiss.IndexFlatIP(d)\n",
    "\n",
    "# populate the index with user vectors\n",
    "user_vectors = np.array(df_user['aspect_weights'].to_list()).astype(np.float32)\n",
    "user_vectors = user_vectors / np.linalg.norm(user_vectors, axis=1, keepdims=True)\n",
    "index.add(user_vectors)"
   ]
  },
  {
   "cell_type": "code",
   "execution_count": 9,
   "metadata": {},
   "outputs": [],
   "source": [
    "def get_user_vector(reviews):\n",
    "    # sample input: [{\"item_id\": \"xyz\", \"rating\": 5}]\n",
    "    # output: user vector\n",
    "    w_uk = np.zeros((d,))\n",
    "    for review in reviews:\n",
    "        item_row = df_item.loc[df_item[\"item_id\"] == review[\"item_id\"]]\n",
    "        if len(item_row) == 0:\n",
    "            continue\n",
    "        w_uk += float(review[\"rating\"]) * np.array(item_row.iloc[0][\"aspect_weights\"]).astype(float)\n",
    "    return w_uk / np.linalg.norm(w_uk)"
   ]
  },
  {
   "cell_type": "code",
   "execution_count": 10,
   "metadata": {},
   "outputs": [],
   "source": [
    "user_vector = get_user_vector([{\"item_id\": \"XOSRcvtaKc_Q5H1SAzN20A\", \"rating\": 5}])"
   ]
  },
  {
   "cell_type": "markdown",
   "metadata": {},
   "source": [
    "## Item Rating Prediction\n",
    "\n",
    "Inspired by section 4.2.2 of [1], we design our method for predicting ratings given (user, item) pairs. The rough procedure for predicting the ratings is described as follows:\n",
    "\n",
    "* We denote the target user and item as $u_m$ and $i_n$.\n",
    "* We find a list of all neighboring users $N_k(u_m)$ of the target user, where distance is measured by cosine similarity.\n",
    "* For each nearby user $u'$, we find all reviews $(u', i', r) \\in R(u')$ made by this user.\n",
    "* For each user, we save the tuple $(\\text{sim}(u_m, u'), \\text{sim}(i_n, i'), r)$ in a list `score_info`.\n",
    "* We compute the predicted score using the `score_info` list by taking the weighted some of the scores $r$ by weights $\\text{sim}(u_m, u') \\cdot \\text{sim}(i_n, i')$.\n",
    "\n",
    "Concerely, we use the following formula for item score prediction: $$ \\hat{r}(u_m, i_n) = \\frac{\\sum_{u' \\in N_k(u_m)} \\sum_{(u', i', r) \\in R(u')} \\text{sim}(u_m, u') \\cdot \\text{sim}(i_n, i') \\cdot r}{\\sum_{u' \\in N_k(u_m)} \\sum_{(u', i', r) \\in R(u')} \\text{sim}(u_m, u') \\cdot \\text{sim}(i_n, i')}.$$\n",
    "\n",
    "[1] Hernández-Rubio, M., Cantador, I., Bellogín, A. 2019. A comparative analysis of recommender systems based on item aspect opinions extracted from user reviews. User Modeling and User-Adapted Interaction 29(2), 381-441."
   ]
  },
  {
   "cell_type": "code",
   "execution_count": 11,
   "metadata": {},
   "outputs": [],
   "source": [
    "def rate_item(user_vector, item_id, k=10):\n",
    "    # fetch item vector\n",
    "    item_vector = np.array(df_item[df_item[\"item_id\"] == item_id].iloc[0][\"aspect_weights\"]).astype(float)\n",
    "\n",
    "    # get the nearest k users given the user vector\n",
    "    nearest_user_dists, nearest_users = index.search(user_vector.reshape((1,d)).astype(np.float32), k)\n",
    "    nearest_user_dists = nearest_user_dists / np.linalg.norm(nearest_user_dists)\n",
    "\n",
    "    score_info = []\n",
    "\n",
    "    # for each nearby user...\n",
    "    for user_ix in nearest_users[0]:\n",
    "        # get his/her similarity value the queried user\n",
    "        user_id = df_user.iloc[user_ix][\"user_id\"]\n",
    "        nearby_vector = np.array(df_user[df_user[\"user_id\"] == user_id].iloc[0][\"aspect_weights\"]).astype(float)\n",
    "        user_sim = np.dot(user_vector, nearby_vector)/(np.linalg.norm(user_vector) * np.linalg.norm(nearby_vector))\n",
    "\n",
    "        # iterate all his/her reviews\n",
    "        reviews = df_review[df_review[\"user_id\"] == user_id]\n",
    "        for _, review in reviews.iterrows():\n",
    "            # record the (user similarity, item similarity, reviewed score) tuple\n",
    "            item = df_item[df_item[\"item_id\"] == review[\"business_id\"]]\n",
    "            if len(item) == 0:\n",
    "                continue\n",
    "            review_vector = np.array(item.iloc[0][\"aspect_weights\"]).astype(float)\n",
    "            item_sim = np.dot(item_vector, review_vector)/(np.linalg.norm(item_vector) * np.linalg.norm(review_vector))\n",
    "            score_info.append([user_sim, item_sim, review[\"stars\"]])\n",
    "\n",
    "    # accumulate results\n",
    "    weights = np.array([x[0] * x[1] for x in score_info])\n",
    "    weights /= np.sum(weights)\n",
    "    ratings = np.array([x[2] for x in score_info])\n",
    "    return weights.dot(ratings)"
   ]
  },
  {
   "cell_type": "code",
   "execution_count": 12,
   "metadata": {},
   "outputs": [
    {
     "data": {
      "text/plain": [
       "2.3000000722859193"
      ]
     },
     "execution_count": 12,
     "metadata": {},
     "output_type": "execute_result"
    }
   ],
   "source": [
    "rate_item(user_vector, \"XOSRcvtaKc_Q5H1SAzN20A\")"
   ]
  },
  {
   "cell_type": "code",
   "execution_count": 13,
   "metadata": {},
   "outputs": [],
   "source": [
    "def predict_score(user, item_id):\n",
    "    # sample user input: { \n",
    "    #     \"latitude\": 40,\n",
    "    #     \"longitude\": -80,\n",
    "    #     \"...\": (other info),\n",
    "    #     \"reviews\": [\n",
    "    #         {\n",
    "    #             \"item_id\": \"A\",\n",
    "    #             \"rating\": 4.5\n",
    "    #         }\n",
    "    #     ]\n",
    "    # }\n",
    "    return rate_item(get_user_vector(user[\"reviews\"]), item_id)"
   ]
  },
  {
   "cell_type": "code",
   "execution_count": null,
   "metadata": {},
   "outputs": [],
   "source": []
  }
 ],
 "metadata": {
  "kernelspec": {
   "display_name": "Python 3",
   "language": "python",
   "name": "python3"
  },
  "language_info": {
   "codemirror_mode": {
    "name": "ipython",
    "version": 3
   },
   "file_extension": ".py",
   "mimetype": "text/x-python",
   "name": "python",
   "nbconvert_exporter": "python",
   "pygments_lexer": "ipython3",
   "version": "3.5.2"
  }
 },
 "nbformat": 4,
 "nbformat_minor": 4
}

{
 "cells": [
  {
   "cell_type": "code",
   "execution_count": 1,
   "metadata": {},
   "outputs": [],
   "source": [
    "import os\n",
    "import numpy as np\n",
    "import pandas as pd"
   ]
  },
  {
   "cell_type": "code",
   "execution_count": 2,
   "metadata": {},
   "outputs": [],
   "source": [
    "#!pip3 install faiss-cpu"
   ]
  },
  {
   "cell_type": "code",
   "execution_count": 3,
   "metadata": {},
   "outputs": [],
   "source": [
    "#import faiss"
   ]
  },
  {
   "cell_type": "code",
   "execution_count": 4,
   "metadata": {},
   "outputs": [],
   "source": [
    "from tqdm import tqdm"
   ]
  },
  {
   "cell_type": "markdown",
   "metadata": {},
   "source": [
    "## Data Loading\n",
    "\n",
    "Load yelp dataset along with pre-computed user and item vectors."
   ]
  },
  {
   "cell_type": "code",
   "execution_count": 5,
   "metadata": {},
   "outputs": [],
   "source": [
    "# read datasets\n",
    "df_item = pd.read_json('saved/item.json')\n",
    "df_user = pd.read_json('saved/user.json')"
   ]
  },
  {
   "cell_type": "code",
   "execution_count": 6,
   "metadata": {},
   "outputs": [],
   "source": [
    "df_review = pd.read_csv('data/review.csv')"
   ]
  },
  {
   "cell_type": "code",
   "execution_count": 7,
   "metadata": {},
   "outputs": [
    {
     "data": {
      "text/html": [
       "<div>\n",
       "<style scoped>\n",
       "    .dataframe tbody tr th:only-of-type {\n",
       "        vertical-align: middle;\n",
       "    }\n",
       "\n",
       "    .dataframe tbody tr th {\n",
       "        vertical-align: top;\n",
       "    }\n",
       "\n",
       "    .dataframe thead th {\n",
       "        text-align: right;\n",
       "    }\n",
       "</style>\n",
       "<table border=\"1\" class=\"dataframe\">\n",
       "  <thead>\n",
       "    <tr style=\"text-align: right;\">\n",
       "      <th></th>\n",
       "      <th>item_id</th>\n",
       "      <th>name</th>\n",
       "      <th>city</th>\n",
       "      <th>state</th>\n",
       "      <th>postal_code</th>\n",
       "      <th>latitude</th>\n",
       "      <th>longitude</th>\n",
       "      <th>stars</th>\n",
       "      <th>aspect_weights</th>\n",
       "    </tr>\n",
       "  </thead>\n",
       "  <tbody>\n",
       "    <tr>\n",
       "      <th>4</th>\n",
       "      <td>PfOCPjBrlQAnz__NXj9h_w</td>\n",
       "      <td>\"Brick House Tavern + Tap\"</td>\n",
       "      <td>Cuyahoga Falls</td>\n",
       "      <td>OH</td>\n",
       "      <td>44221</td>\n",
       "      <td>41.119535</td>\n",
       "      <td>-81.47569</td>\n",
       "      <td>3.5</td>\n",
       "      <td>[0.0005837712, 0.0022712347000000003, 0.0, 0.0...</td>\n",
       "    </tr>\n",
       "  </tbody>\n",
       "</table>\n",
       "</div>"
      ],
      "text/plain": [
       "                  item_id                        name            city state  \\\n",
       "4  PfOCPjBrlQAnz__NXj9h_w  \"Brick House Tavern + Tap\"  Cuyahoga Falls    OH   \n",
       "\n",
       "  postal_code   latitude  longitude  stars  \\\n",
       "4       44221  41.119535  -81.47569    3.5   \n",
       "\n",
       "                                      aspect_weights  \n",
       "4  [0.0005837712, 0.0022712347000000003, 0.0, 0.0...  "
      ]
     },
     "execution_count": 7,
     "metadata": {},
     "output_type": "execute_result"
    }
   ],
   "source": [
    "df_item.head(n=1)"
   ]
  },
  {
   "cell_type": "code",
   "execution_count": 8,
   "metadata": {
    "scrolled": false
   },
   "outputs": [
    {
     "data": {
      "text/html": [
       "<div>\n",
       "<style scoped>\n",
       "    .dataframe tbody tr th:only-of-type {\n",
       "        vertical-align: middle;\n",
       "    }\n",
       "\n",
       "    .dataframe tbody tr th {\n",
       "        vertical-align: top;\n",
       "    }\n",
       "\n",
       "    .dataframe thead th {\n",
       "        text-align: right;\n",
       "    }\n",
       "</style>\n",
       "<table border=\"1\" class=\"dataframe\">\n",
       "  <thead>\n",
       "    <tr style=\"text-align: right;\">\n",
       "      <th></th>\n",
       "      <th>user_id</th>\n",
       "      <th>name</th>\n",
       "      <th>review_count</th>\n",
       "      <th>yelping_since</th>\n",
       "      <th>aspect_weights</th>\n",
       "    </tr>\n",
       "  </thead>\n",
       "  <tbody>\n",
       "    <tr>\n",
       "      <th>0</th>\n",
       "      <td>JJ-aSuM4pCFPdkfoZ34q0Q</td>\n",
       "      <td>Chris</td>\n",
       "      <td>10</td>\n",
       "      <td>2013-09-24</td>\n",
       "      <td>[0.0, 0.0, 0.0, 0.0, 0.0, 0.0, 0.0, 0.0, 0.0, ...</td>\n",
       "    </tr>\n",
       "  </tbody>\n",
       "</table>\n",
       "</div>"
      ],
      "text/plain": [
       "                  user_id   name  review_count yelping_since  \\\n",
       "0  JJ-aSuM4pCFPdkfoZ34q0Q  Chris            10    2013-09-24   \n",
       "\n",
       "                                      aspect_weights  \n",
       "0  [0.0, 0.0, 0.0, 0.0, 0.0, 0.0, 0.0, 0.0, 0.0, ...  "
      ]
     },
     "execution_count": 8,
     "metadata": {},
     "output_type": "execute_result"
    }
   ],
   "source": [
    "df_user.head(n=1)"
   ]
  },
  {
   "cell_type": "code",
   "execution_count": 9,
   "metadata": {
    "scrolled": false
   },
   "outputs": [
    {
     "data": {
      "text/html": [
       "<div>\n",
       "<style scoped>\n",
       "    .dataframe tbody tr th:only-of-type {\n",
       "        vertical-align: middle;\n",
       "    }\n",
       "\n",
       "    .dataframe tbody tr th {\n",
       "        vertical-align: top;\n",
       "    }\n",
       "\n",
       "    .dataframe thead th {\n",
       "        text-align: right;\n",
       "    }\n",
       "</style>\n",
       "<table border=\"1\" class=\"dataframe\">\n",
       "  <thead>\n",
       "    <tr style=\"text-align: right;\">\n",
       "      <th></th>\n",
       "      <th>review_id</th>\n",
       "      <th>user_id</th>\n",
       "      <th>business_id</th>\n",
       "      <th>stars</th>\n",
       "      <th>date</th>\n",
       "      <th>text</th>\n",
       "      <th>useful</th>\n",
       "      <th>funny</th>\n",
       "      <th>cool</th>\n",
       "    </tr>\n",
       "  </thead>\n",
       "  <tbody>\n",
       "    <tr>\n",
       "      <th>0</th>\n",
       "      <td>vkVSCC7xljjrAI4UGfnKEQ</td>\n",
       "      <td>bv2nCi5Qv5vroFiqKGopiw</td>\n",
       "      <td>AEx2SYEUJmTxVVB18LlCwA</td>\n",
       "      <td>5</td>\n",
       "      <td>2016-05-28</td>\n",
       "      <td>Super simple place but amazing nonetheless. It...</td>\n",
       "      <td>0</td>\n",
       "      <td>0</td>\n",
       "      <td>0</td>\n",
       "    </tr>\n",
       "  </tbody>\n",
       "</table>\n",
       "</div>"
      ],
      "text/plain": [
       "                review_id                 user_id             business_id  \\\n",
       "0  vkVSCC7xljjrAI4UGfnKEQ  bv2nCi5Qv5vroFiqKGopiw  AEx2SYEUJmTxVVB18LlCwA   \n",
       "\n",
       "   stars        date                                               text  \\\n",
       "0      5  2016-05-28  Super simple place but amazing nonetheless. It...   \n",
       "\n",
       "   useful  funny  cool  \n",
       "0       0      0     0  "
      ]
     },
     "execution_count": 9,
     "metadata": {},
     "output_type": "execute_result"
    }
   ],
   "source": [
    "df_review.head(n=1)"
   ]
  },
  {
   "cell_type": "markdown",
   "metadata": {},
   "source": [
    "## Preparations\n",
    "\n",
    "Load index for fast nearby user retrieval and function for converting user information to feature vectors."
   ]
  },
  {
   "cell_type": "code",
   "execution_count": 32,
   "metadata": {},
   "outputs": [],
   "source": [
    "# initialize the user index\n",
    "d = len(df_user.iloc[0]['aspect_weights'])\n",
    "index = []\n",
    "#index = faiss.IndexFlatIP(d)"
   ]
  },
  {
   "cell_type": "code",
   "execution_count": 33,
   "metadata": {},
   "outputs": [
    {
     "name": "stderr",
     "output_type": "stream",
     "text": [
      "C:\\ProgramData\\Anaconda3\\lib\\site-packages\\ipykernel_launcher.py:3: RuntimeWarning: invalid value encountered in true_divide\n",
      "  This is separate from the ipykernel package so we can avoid doing imports until\n"
     ]
    }
   ],
   "source": [
    "# populate the index with user vectors\n",
    "user_vectors = np.array(df_user['aspect_weights'].to_list()).astype(np.float32)\n",
    "user_vectors = user_vectors / np.linalg.norm(user_vectors, axis=1, keepdims=True)\n",
    "index.append(user_vectors)"
   ]
  },
  {
   "cell_type": "code",
   "execution_count": 13,
   "metadata": {},
   "outputs": [],
   "source": [
    "def get_user_vector(reviews):\n",
    "    # sample input: [{\"item_id\": \"xyz\", \"rating\": 5}]\n",
    "    # output: user vector\n",
    "    w_uk = np.zeros((d,))\n",
    "    for review in reviews:\n",
    "        item_row = df_item.loc[df_item[\"item_id\"] == review[\"item_id\"]]\n",
    "        if len(item_row) == 0:\n",
    "            continue\n",
    "        w_uk += float(review[\"rating\"]) * np.array(item_row.iloc[0][\"aspect_weights\"]).astype(float)\n",
    "    return w_uk / np.linalg.norm(w_uk)"
   ]
  },
  {
   "cell_type": "code",
   "execution_count": 14,
   "metadata": {},
   "outputs": [],
   "source": [
    "user_vector = get_user_vector([{\"item_id\": \"XOSRcvtaKc_Q5H1SAzN20A\", \"rating\": 5}])"
   ]
  },
  {
   "cell_type": "markdown",
   "metadata": {},
   "source": [
    "## Item Rating Prediction\n",
    "\n",
    "Inspired by section 4.2.2 of [1], we design our method for predicting ratings given (user, item) pairs. The rough procedure for predicting the ratings is described as follows:\n",
    "\n",
    "* We denote the target user and item as $u_m$ and $i_n$.\n",
    "* We find a list of all neighboring users $N_k(u_m)$ of the target user, where distance is measured by cosine similarity.\n",
    "* For each nearby user $u'$, wee find all reviews $(u', i', r) \\in R(u')$ made by this user.\n",
    "* For each user, we save the tuple $(\\text{sim}(u_m, u'), \\text{sim}(i_n, i'), r)$ in a list `score_info`.\n",
    "* We compute the predicted score using the `score_info` list by taking the weighted some of the scores $r$ by weights $\\text{sim}(u_m, u') \\cdot \\text{sim}(i_n, i')$.\n",
    "\n",
    "Concerely, we use the following formula for item score prediction: $$ \\hat{r}(u_m, i_n) = \\frac{\\sum_{u' \\in N_k(u_m)} \\sum_{(u', i', r) \\in R(u')} \\text{sim}(u_m, u') \\cdot \\text{sim}(i_n, i') \\cdot r}{\\sum_{u' \\in N_k(u_m)} \\sum_{(u', i', r) \\in R(u')} \\text{sim}(u_m, u') \\cdot \\text{sim}(i_n, i')}.$$\n",
    "\n",
    "[1] Hernández-Rubio, M., Cantador, I., Bellogín, A. 2019. A comparative analysis of recommender systems based on item aspect opinions extracted from user reviews. User Modeling and User-Adapted Interaction 29(2), 381-441."
   ]
  },
  {
   "cell_type": "code",
   "execution_count": 50,
   "metadata": {},
   "outputs": [],
   "source": [
    "def rate_item(user_vector, item_id, k=10):\n",
    "    # fetch item vector\n",
    "    item_vector = np.array(df_item[df_item[\"item_id\"] == item_id].iloc[0][\"aspect_weights\"]).astype(float)\n",
    "\n",
    "    # get the nearest k users given the user vector\n",
    "    nearest_user_dists = user_vectors.search(user_vector.reshape((1,d)).astype(np.float32), k)\n",
    "    nearest_users = index[0:5]\n",
    "    print(nearest_users)\n",
    "    #index.search(user_vector.reshape((1,d)).astype(np.float32), k)\n",
    "    nearest_user_dists = nearest_user_dists / np.linalg.norm(nearest_user_dists)\n",
    "\n",
    "    score_info = []\n",
    "\n",
    "    # for each nearby user...\n",
    "    for user_ix in nearest_users[0]:\n",
    "        # get his/her similarity value the queried user\n",
    "        user_id = df_user.iloc[user_ix][\"user_id\"]\n",
    "        nearby_vector = np.array(df_user[df_user[\"user_id\"] == user_id].iloc[0][\"aspect_weights\"]).astype(float)\n",
    "        user_sim = np.dot(user_vector, nearby_vector)/(np.linalg.norm(user_vector) * np.linalg.norm(nearby_vector))\n",
    "\n",
    "        # iterate all his/her reviews\n",
    "        reviews = df_review[df_review[\"user_id\"] == user_id]\n",
    "        for _, review in reviews.iterrows():\n",
    "            # record the (user similarity, item similarity, reviewed score) tuple\n",
    "            item = df_item[df_item[\"item_id\"] == review[\"business_id\"]]\n",
    "            if len(item) == 0:\n",
    "                continue\n",
    "            review_vector = np.array(item.iloc[0][\"aspect_weights\"]).astype(float)\n",
    "            item_sim = np.dot(item_vector, review_vector)/(np.linalg.norm(item_vector) * np.linalg.norm(review_vector))\n",
    "            score_info.append([user_sim, item_sim, review[\"stars\"]])\n",
    "\n",
    "    # accumulate results\n",
    "    weights = np.array([x[0] * x[1] for x in score_info])\n",
    "    weights /= np.sum(weights)\n",
    "    ratings = np.array([x[2] for x in score_info])\n",
    "    return weights.dot(ratings)"
   ]
  },
  {
   "cell_type": "code",
   "execution_count": 51,
   "metadata": {},
   "outputs": [
    {
     "ename": "AttributeError",
     "evalue": "'numpy.ndarray' object has no attribute 'search'",
     "output_type": "error",
     "traceback": [
      "\u001b[1;31m---------------------------------------------------------------------------\u001b[0m",
      "\u001b[1;31mAttributeError\u001b[0m                            Traceback (most recent call last)",
      "\u001b[1;32m<ipython-input-51-ce593177f454>\u001b[0m in \u001b[0;36m<module>\u001b[1;34m\u001b[0m\n\u001b[1;32m----> 1\u001b[1;33m \u001b[0mrate_item\u001b[0m\u001b[1;33m(\u001b[0m\u001b[0muser_vector\u001b[0m\u001b[1;33m,\u001b[0m \u001b[1;34m\"XOSRcvtaKc_Q5H1SAzN20A\"\u001b[0m\u001b[1;33m)\u001b[0m\u001b[1;33m\u001b[0m\u001b[1;33m\u001b[0m\u001b[0m\n\u001b[0m",
      "\u001b[1;32m<ipython-input-50-2e326641acc0>\u001b[0m in \u001b[0;36mrate_item\u001b[1;34m(user_vector, item_id, k)\u001b[0m\n\u001b[0;32m      4\u001b[0m \u001b[1;33m\u001b[0m\u001b[0m\n\u001b[0;32m      5\u001b[0m     \u001b[1;31m# get the nearest k users given the user vector\u001b[0m\u001b[1;33m\u001b[0m\u001b[1;33m\u001b[0m\u001b[1;33m\u001b[0m\u001b[0m\n\u001b[1;32m----> 6\u001b[1;33m     \u001b[0mnearest_user_dists\u001b[0m \u001b[1;33m=\u001b[0m \u001b[0muser_vectors\u001b[0m\u001b[1;33m.\u001b[0m\u001b[0msearch\u001b[0m\u001b[1;33m(\u001b[0m\u001b[0muser_vector\u001b[0m\u001b[1;33m.\u001b[0m\u001b[0mreshape\u001b[0m\u001b[1;33m(\u001b[0m\u001b[1;33m(\u001b[0m\u001b[1;36m1\u001b[0m\u001b[1;33m,\u001b[0m\u001b[0md\u001b[0m\u001b[1;33m)\u001b[0m\u001b[1;33m)\u001b[0m\u001b[1;33m.\u001b[0m\u001b[0mastype\u001b[0m\u001b[1;33m(\u001b[0m\u001b[0mnp\u001b[0m\u001b[1;33m.\u001b[0m\u001b[0mfloat32\u001b[0m\u001b[1;33m)\u001b[0m\u001b[1;33m,\u001b[0m \u001b[0mk\u001b[0m\u001b[1;33m)\u001b[0m\u001b[1;33m\u001b[0m\u001b[1;33m\u001b[0m\u001b[0m\n\u001b[0m\u001b[0;32m      7\u001b[0m     \u001b[0mnearest_users\u001b[0m \u001b[1;33m=\u001b[0m \u001b[0mindex\u001b[0m\u001b[1;33m[\u001b[0m\u001b[1;36m0\u001b[0m\u001b[1;33m:\u001b[0m\u001b[1;36m5\u001b[0m\u001b[1;33m]\u001b[0m\u001b[1;33m\u001b[0m\u001b[1;33m\u001b[0m\u001b[0m\n\u001b[0;32m      8\u001b[0m     \u001b[0mprint\u001b[0m\u001b[1;33m(\u001b[0m\u001b[0mnearest_users\u001b[0m\u001b[1;33m)\u001b[0m\u001b[1;33m\u001b[0m\u001b[1;33m\u001b[0m\u001b[0m\n",
      "\u001b[1;31mAttributeError\u001b[0m: 'numpy.ndarray' object has no attribute 'search'"
     ]
    }
   ],
   "source": [
    "rate_item(user_vector, \"XOSRcvtaKc_Q5H1SAzN20A\")"
   ]
  },
  {
   "cell_type": "code",
   "execution_count": 13,
   "metadata": {},
   "outputs": [],
   "source": [
    "def predict_score(user, item_id):\n",
    "    # sample user input: { \n",
    "    #     \"latitude\": 40,\n",
    "    #     \"longitude\": -80,\n",
    "    #     \"...\": (other info),\n",
    "    #     \"reviews\": [\n",
    "    #         {\n",
    "    #             \"item_id\": \"A\",\n",
    "    #             \"rating\": 4.5\n",
    "    #         }\n",
    "    #     ]\n",
    "    # }\n",
    "    return rate_item(get_user_vector(user[\"reviews\"]), item_id)"
   ]
  },
  {
   "cell_type": "code",
   "execution_count": null,
   "metadata": {},
   "outputs": [],
   "source": []
  }
 ],
 "metadata": {
  "kernelspec": {
   "display_name": "env",
   "language": "python",
   "name": "my_env"
  },
  "language_info": {
   "codemirror_mode": {
    "name": "ipython",
    "version": 3
   },
   "file_extension": ".py",
   "mimetype": "text/x-python",
   "name": "python",
   "nbconvert_exporter": "python",
   "pygments_lexer": "ipython3",
   "version": "3.7.6"
  }
 },
 "nbformat": 4,
 "nbformat_minor": 4
}
